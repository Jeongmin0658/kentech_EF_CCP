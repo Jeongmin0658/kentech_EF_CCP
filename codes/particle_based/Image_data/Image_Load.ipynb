{
  "cells": [
    {
      "cell_type": "markdown",
      "metadata": {
        "id": "view-in-github",
        "colab_type": "text"
      },
      "source": [
        "<a href=\"https://colab.research.google.com/github/Jeongmin0658/kentech_EF_CCP/blob/main/codes/particle_based/Image_data/Image_Load.ipynb\" target=\"_parent\"><img src=\"https://colab.research.google.com/assets/colab-badge.svg\" alt=\"Open In Colab\"/></a>"
      ]
    },
    {
      "cell_type": "code",
      "execution_count": null,
      "id": "08b6ebe1",
      "metadata": {
        "id": "08b6ebe1"
      },
      "outputs": [],
      "source": [
        "# import torch\n",
        "# if torch.backends.mps.is_available():\n",
        "#     mps_device = torch.device(\"mps\")\n",
        "#     x = torch.ones(1, device=mps_device)\n",
        "#     print (x)\n",
        "# else:\n",
        "#     print (\"MPS device not found.\")\n",
        "\n",
        "# x = torch.rand(5, 3)\n",
        "# print(x)\n",
        "\n",
        "# # Check if CUDA is available, and set PyTorch to use GPU or CPU accordingly\n",
        "# device = torch.device(\"cuda\" if torch.cuda.is_available() else \"cpu\")\n",
        "# print(device)\n",
        "# print(torch.cuda.is_available())"
      ]
    },
    {
      "cell_type": "code",
      "execution_count": null,
      "id": "755e306e",
      "metadata": {
        "id": "755e306e"
      },
      "outputs": [],
      "source": [
        "import numpy as np\n",
        "import umap.umap_ as umap\n",
        "import hdbscan\n",
        "import matplotlib.pyplot as plt\n",
        "import seaborn as sns\n",
        "\n",
        "class ImageLoad:\n",
        "\n",
        "    def __init__(self):\n",
        "        self.all_images = []  # List to store all the image grids\n",
        "\n",
        "    @staticmethod\n",
        "    def read_image_and_info(image, file, delimiter='\\t'):\n",
        "        # Load the data\n",
        "        loaded_data = np.loadtxt(file, delimiter=delimiter)\n",
        "\n",
        "        # Extract columns\n",
        "        r = loaded_data[:, 0]  # radius\n",
        "        m = loaded_data[:, 1]  # mass\n",
        "        dm = loaded_data[:, 2]  # differential mass\n",
        "        ndm = loaded_data[:, 3]  # normalized differential mass\n",
        "\n",
        "        # Load grid\n",
        "        grid = np.loadtxt(image, dtype=int)\n",
        "\n",
        "        return grid, r, m, dm, ndm\n",
        "\n",
        "    @staticmethod\n",
        "    def extract_feature_vector(r, m, f1, f2):\n",
        "#         # If the grid is 2D, flatten it\n",
        "#         if len(grid.shape) == 2:\n",
        "#             print (\"Matrix fed?\")\n",
        "#             grid = grid.flatten()\n",
        "\n",
        "        # Concatenate the vectors\n",
        "        return np.concatenate([m, f1, f2])\n",
        "\n",
        "    def cluster_images(self, p, nimage, snap_every):\n",
        "        # feature vectors\n",
        "        all_feature_vectors = []\n",
        "\n",
        "        # EDEN\n",
        "        p = 0\n",
        "        for n in range(nimage):\n",
        "            for j, i in enumerate(snap_every):\n",
        "                grid, r, m, f1, f2 = self.read_image_and_info(\n",
        "                    image='images/smooth/image_p%d_#%d_%d.txt' % (p, n, i),\n",
        "                    file='images/smooth/info_p%d_#%d_%d.txt' % (p, n, i),\n",
        "                    delimiter='\\t')\n",
        "                self.all_images.append(grid)  # Append the image grid to the all_images list\n",
        "                feature_vector = self.extract_feature_vector(r, m, f1, f2)\n",
        "                all_feature_vectors.append(feature_vector)\n",
        "\n",
        "        # DLA\n",
        "        p = 1\n",
        "        for n in range(nimage):\n",
        "            for j, i in enumerate(snap_every):\n",
        "                grid, r, m, f1, f2 = self.read_image_and_info(\n",
        "                    image='images/dendritic/image_p%d_#%d_%d.txt' % (p, n, i),\n",
        "                    file='images/dendritic/info_p%d_#%d_%d.txt' % (p, n, i),\n",
        "                    delimiter='\\t')\n",
        "                self.all_images.append(grid)  # Append the image grid to the all_images list\n",
        "                feature_vector = self.extract_feature_vector(r, m, f1, f2)\n",
        "                all_feature_vectors.append(feature_vector)\n",
        "\n",
        "        # feature vector\n",
        "        self.all_feature_vectors = np.vstack(all_feature_vectors)\n",
        "\n",
        "    # Function to get all images\n",
        "    def get_all_images(self):\n",
        "        return self.all_images\n",
        "\n",
        "    # Function to get all images\n",
        "    def get_all_features(self):\n",
        "        return self.all_feature_vectors"
      ]
    },
    {
      "cell_type": "code",
      "execution_count": null,
      "id": "cf0a0ef6",
      "metadata": {
        "scrolled": false,
        "id": "cf0a0ef6"
      },
      "outputs": [],
      "source": [
        "####\n",
        "# Run simulation\n",
        "# Outputs saved in the folder of \"images/dendritic\"\n",
        "# XXX: sticking probability p\n",
        "# YYY: image index\n",
        "# ZZZ: number of deposits\n",
        "# Images: image_pXXX_#YYY_ZZZ.txt\n",
        "# Their characterization info: info_pXXX_#YYY_ZZZ.txt\n",
        "####\n",
        "p=0 # sticking prob.\n",
        "nimage=512 # number of images\n",
        "#\n",
        "size_image=200 # square image size\n",
        "ndeposit=1000 # number of deposits\n",
        "snap_every=[100, 200, 400, 600, 800,1000]\n",
        "\n",
        "# Define my method\n",
        "image_loader = ImageLoad()\n",
        "image_loader.cluster_images(p, nimage, snap_every)\n",
        "all_images = image_loader.get_all_images()\n",
        "all_feature_vectors = image_loader.get_all_features()"
      ]
    },
    {
      "cell_type": "code",
      "execution_count": null,
      "id": "f353e8d4",
      "metadata": {
        "id": "f353e8d4"
      },
      "outputs": [],
      "source": []
    }
  ],
  "metadata": {
    "kernelspec": {
      "display_name": "Python 3 (ipykernel)",
      "language": "python",
      "name": "python3"
    },
    "language_info": {
      "codemirror_mode": {
        "name": "ipython",
        "version": 3
      },
      "file_extension": ".py",
      "mimetype": "text/x-python",
      "name": "python",
      "nbconvert_exporter": "python",
      "pygments_lexer": "ipython3",
      "version": "3.10.13"
    },
    "colab": {
      "provenance": [],
      "include_colab_link": true
    }
  },
  "nbformat": 4,
  "nbformat_minor": 5
}