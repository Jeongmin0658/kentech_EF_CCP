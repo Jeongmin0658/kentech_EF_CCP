{
  "cells": [
    {
      "cell_type": "code",
      "execution_count": 1,
      "metadata": {
        "colab": {
          "base_uri": "https://localhost:8080/",
          "height": 577
        },
        "id": "LrwjhwawvCPM",
        "outputId": "a50a7c53-0378-45b0-866e-aff537ead3d2"
      },
      "outputs": [
        {
          "ename": "ModuleNotFoundError",
          "evalue": "No module named 'numpy'",
          "output_type": "error",
          "traceback": [
            "\u001b[0;31m---------------------------------------------------------------------------\u001b[0m",
            "\u001b[0;31mModuleNotFoundError\u001b[0m                       Traceback (most recent call last)",
            "\u001b[1;32m/Users/dismal_sunfish/Desktop/KENTECH/23Fall/CCP_SIS/code/FastDLA_txt저장.ipynb 셀 1\u001b[0m line \u001b[0;36m1\n\u001b[0;32m----> <a href='vscode-notebook-cell:/Users/dismal_sunfish/Desktop/KENTECH/23Fall/CCP_SIS/code/FastDLA_txt%EC%A0%80%EC%9E%A5.ipynb#W0sZmlsZQ%3D%3D?line=0'>1</a>\u001b[0m \u001b[39mimport\u001b[39;00m \u001b[39mnumpy\u001b[39;00m \u001b[39mas\u001b[39;00m \u001b[39mnp\u001b[39;00m\n\u001b[1;32m      <a href='vscode-notebook-cell:/Users/dismal_sunfish/Desktop/KENTECH/23Fall/CCP_SIS/code/FastDLA_txt%EC%A0%80%EC%9E%A5.ipynb#W0sZmlsZQ%3D%3D?line=1'>2</a>\u001b[0m \u001b[39mimport\u001b[39;00m \u001b[39mmatplotlib\u001b[39;00m\u001b[39m.\u001b[39;00m\u001b[39mpyplot\u001b[39;00m \u001b[39mas\u001b[39;00m \u001b[39mplt\u001b[39;00m\n\u001b[1;32m      <a href='vscode-notebook-cell:/Users/dismal_sunfish/Desktop/KENTECH/23Fall/CCP_SIS/code/FastDLA_txt%EC%A0%80%EC%9E%A5.ipynb#W0sZmlsZQ%3D%3D?line=3'>4</a>\u001b[0m \u001b[39mclass\u001b[39;00m \u001b[39mFastDLA\u001b[39;00m:\n",
            "\u001b[0;31mModuleNotFoundError\u001b[0m: No module named 'numpy'"
          ]
        }
      ],
      "source": [
        "import numpy as np\n",
        "import matplotlib.pyplot as plt\n",
        "\n",
        "class FastDLA:\n",
        "    def __init__(self, L=200):\n",
        "        self.L = L\n",
        "        self.grid = np.zeros((L, L), dtype=int)\n",
        "        self.grid[L//2, L//2] = 1\n",
        "        self.boundary = {(L//2, L//2)}   # Using a set for faster lookups\n",
        "\n",
        "    def update_boundary(self):\n",
        "        new_boundary = set()\n",
        "        directions = [(0,1), (1,0), (0,-1), (-1,0)]\n",
        "        for i in range(self.L):\n",
        "            for j in range(self.L):\n",
        "                if self.grid[i,j] == 0:\n",
        "                    for dx, dy in directions:\n",
        "                        ni, nj = i + dx, j + dy\n",
        "                        if 0 <= ni < self.L and 0 <= nj < self.L and self.grid[ni, nj] == 1:\n",
        "                            new_boundary.add((i, j))\n",
        "        self.boundary = new_boundary\n",
        "\n",
        "    def run(self, N):\n",
        "        directions = [(0,1), (1,0), (0,-1), (-1,0)]\n",
        "\n",
        "        for _ in range(N):\n",
        "            if not self.boundary:\n",
        "                self.update_boundary()\n",
        "\n",
        "            # Choose a random point from the boundary\n",
        "            x, y = self.boundary.pop()\n",
        "\n",
        "            # Store the initial boundary point to add back if the point doesn't aggregate\n",
        "            initial_boundary_point = (x, y)\n",
        "\n",
        "            while True:\n",
        "                dx, dy = directions[np.random.randint(0, 4)]\n",
        "\n",
        "                # Move only if inside the boundaries\n",
        "                if 0 < x + dx < self.L-1 and 0 < y + dy < self.L-1:\n",
        "                    x += dx\n",
        "                    y += dy\n",
        "\n",
        "                    if self.grid[x, y] == 1:\n",
        "                        # Aggregate and break\n",
        "                        self.grid[x - dx, y - dy] = 1\n",
        "\n",
        "                        # Update the boundary\n",
        "                        for dx1, dy1 in directions:\n",
        "                            if 0 <= x + dx1 < self.L and 0 <= y + dy1 < self.L and self.grid[x + dx1, y + dy1] == 0:\n",
        "                                self.boundary.add((x + dx1, y + dy1))\n",
        "                        break\n",
        "                else:\n",
        "                    # If the walker goes out of bounds, break the loop\n",
        "                    self.boundary.add(initial_boundary_point)  # Add back the initial boundary point\n",
        "                    break\n",
        "\n",
        "    def visualize(self):\n",
        "        plt.imshow(self.grid, cmap='gray')\n",
        "        plt.title(\"Fast DLA\")\n",
        "        plt.show()\n",
        "\n",
        "# # Example usage:\n",
        "fast_dla = FastDLA(L=100)\n",
        "fast_dla.run(1000)\n",
        "fast_dla.visualize()\n",
        "\n",
        "print(fast_dla.grid)\n",
        "np.savetxt('test.txt',fast_dla.grid,fmt='%d')\n",
        "\n"
      ]
    }
  ],
  "metadata": {
    "colab": {
      "provenance": []
    },
    "kernelspec": {
      "display_name": "Python 3",
      "name": "python3"
    },
    "language_info": {
      "codemirror_mode": {
        "name": "ipython",
        "version": 3
      },
      "file_extension": ".py",
      "mimetype": "text/x-python",
      "name": "python",
      "nbconvert_exporter": "python",
      "pygments_lexer": "ipython3",
      "version": "3.11.5"
    }
  },
  "nbformat": 4,
  "nbformat_minor": 0
}
